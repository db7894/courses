{
 "cells": [
  {
   "cell_type": "markdown",
   "metadata": {},
   "source": []
  },
  {
   "cell_type": "markdown",
   "metadata": {},
   "source": [
    "Step 1: associate the data from the .csv data. \n",
    "\n",
    "Strategy: 2 networks--one will be used to get probability of being by an artist, can use second to last layer as input into second network. "
   ]
  },
  {
   "cell_type": "code",
   "execution_count": null,
   "metadata": {
    "collapsed": true
   },
   "outputs": [],
   "source": [
    "import sys\n",
    "from utils import *"
   ]
  },
  {
   "cell_type": "code",
   "execution_count": null,
   "metadata": {
    "collapsed": true
   },
   "outputs": [],
   "source": [
    "%matplotlib inline\n",
    "path = \"data/painter-by-numbers/\"\n",
    "\n",
    "from __future__ import division,print_function\n",
    "\n",
    "import os, json\n",
    "from glob import glob\n",
    "import numpy as np\n",
    "np.set_printoptions(precision=4, linewidth=100)\n",
    "from matplotlib import pyplot as plt"
   ]
  },
  {
   "cell_type": "code",
   "execution_count": null,
   "metadata": {
    "collapsed": true
   },
   "outputs": [],
   "source": [
    "#verify directory\n",
    "%pwd"
   ]
  },
  {
   "cell_type": "code",
   "execution_count": null,
   "metadata": {
    "collapsed": true
   },
   "outputs": [],
   "source": [
    "artist_names = np.genfromtxt('train_info.csv', delimiter=',', dtype=None, usecols=(1)).astype(str)\n",
    "artist_names = artist_names[1:] #remove the first row that contains ['filename', 'artist']\n",
    "#print(artist_names[0:5])"
   ]
  },
  {
   "cell_type": "markdown",
   "metadata": {},
   "source": [
    "Above, I'm only using column 1 (artist ID) for the numpy array because everything is ordered, so I should just be able to iterate through the directory of painting IDs and add the corresponding artist ID to the title. The next step after getting an array of artist IDs is to iterate through the directory and add the corresponding artist ID to the title of the painting so that I can use bash to sort them into 9 subdirectories, 1 for each artist. "
   ]
  },
  {
   "cell_type": "code",
   "execution_count": null,
   "metadata": {
    "collapsed": true
   },
   "outputs": [],
   "source": [
    "#iterate through the files\n",
    "idIndex = 0 #keep track of where we are in the artist name array\n",
    "directory = 'data/painter-by-numbers/train/' #needs full directory\n",
    "for filename in os.listdir(path+'train/'):\n",
    "    \"\"\"\n",
    "    tag each file w/ artist ID--NOTE: if adding to end of name, use filename[:-4] so we don't add characters after the .jpg\n",
    "    Adding the artist ID first for easier recognition with bash (check beginning + wildcard character)\n",
    "    Since adding artist ID before filename we don't need to worry about the .jpg part\n",
    "    \"\"\"\n",
    "    fullPath = os.path.join(directory, filename)\n",
    "    newFileName = artist_names[idIndex] + '_' + filename\n",
    "    \n",
    "    finalFile = os.path.join(directory, newFileName)\n",
    "    os.rename(fullPath, finalFile)\n",
    "    idIndex += 1"
   ]
  },
  {
   "cell_type": "code",
   "execution_count": null,
   "metadata": {
    "collapsed": true
   },
   "outputs": [],
   "source": []
  },
  {
   "cell_type": "code",
   "execution_count": null,
   "metadata": {
    "collapsed": true
   },
   "outputs": [],
   "source": [
    "current_directory = os.getcwd()\n",
    "LESSON_HOME_DIR = current_directory\n",
    "DATA_HOME_DIR = current_directory+'/data'+'/painter-by-numbers'"
   ]
  },
  {
   "cell_type": "code",
   "execution_count": null,
   "metadata": {
    "collapsed": true
   },
   "outputs": [],
   "source": [
    "#Allow relative imports to directories above lesson1/\n",
    "sys.path.insert(1, os.path.join(sys.path[0], '..'))"
   ]
  },
  {
   "cell_type": "code",
   "execution_count": null,
   "metadata": {
    "collapsed": true
   },
   "outputs": [],
   "source": [
    "%cd $DATA_HOME_DIR\n",
    "%mkdir valid\n",
    "%mkdir results\n",
    "%mkdir -p sample/train\n",
    "%mkdir -p sample/test\n",
    "%mkdir -p sample/valid\n",
    "%mkdir -p sample/results\n",
    "%mkdir -p test/unknown"
   ]
  },
  {
   "cell_type": "code",
   "execution_count": null,
   "metadata": {
    "collapsed": true
   },
   "outputs": [],
   "source": [
    "%cd $DATA_HOME_DIR/train"
   ]
  },
  {
   "cell_type": "code",
   "execution_count": null,
   "metadata": {
    "collapsed": true
   },
   "outputs": [],
   "source": [
    "g = glob('*.jpg')\n",
    "shuffle = np.random.permutation(g)\n",
    "#the train dataset has 79,434 images, so we will take ~20% for our validation dataset\n",
    "for i in range(15800): os.rename(shuffle[i], DATA_HOME_DIR+'/valid/'+shuffle[i])"
   ]
  },
  {
   "cell_type": "code",
   "execution_count": null,
   "metadata": {
    "collapsed": true
   },
   "outputs": [],
   "source": [
    "from shutil import copyfile"
   ]
  },
  {
   "cell_type": "code",
   "execution_count": 19,
   "metadata": {
    "collapsed": true
   },
   "outputs": [],
   "source": [
    "g = glob('*.jpg')\n",
    "shuffle = np.random.permutation(g)\n",
    "#now we add photos for our sample dataset\n",
    "for i in range(1200): os.rename(shuffle[i], DATA_HOME_DIR+'/sample/train/'+shuffle[i])"
   ]
  },
  {
   "cell_type": "code",
   "execution_count": null,
   "metadata": {
    "collapsed": true
   },
   "outputs": [],
   "source": [
    "%cd DATA_HOME_DIR/valid"
   ]
  },
  {
   "cell_type": "code",
   "execution_count": null,
   "metadata": {
    "collapsed": true
   },
   "outputs": [],
   "source": [
    "g = glob('*.jpg')\n",
    "shuffle = np.random.permutation(g)\n",
    "#add photos to sample valid batch\n",
    "for i in range(300): copyfile(shuffle[i], DATA_HOME_DIR+'/sample/valid/'+shuffle[i])"
   ]
  },
  {
   "cell_type": "code",
   "execution_count": null,
   "metadata": {
    "collapsed": true
   },
   "outputs": [],
   "source": []
  },
  {
   "cell_type": "markdown",
   "metadata": {},
   "source": [
    "The code below creates a vector of all the $unique$ artist names, iterates through them and makes appropriate directories in the train folder. "
   ]
  },
  {
   "cell_type": "code",
   "execution_count": 25,
   "metadata": {
    "collapsed": true
   },
   "outputs": [],
   "source": [
    "directory = 'data/painter-by-numbers/'\n",
    "name = 'bob/'\n",
    "newDir = os.path.join(directory, name)\n",
    "os.makedirs(newDir)"
   ]
  },
  {
   "cell_type": "code",
   "execution_count": 27,
   "metadata": {
    "collapsed": true
   },
   "outputs": [],
   "source": [
    "#TODO: perhaps make this into a function, you will need to make and move tagged files onto directories in sample/train,\n",
    "# sample/valid, train, and valid\n",
    "\n",
    "directory = 'data/painter-by-numbers/train/'\n",
    "\n",
    "def createArtistDirs(directory):\n",
    "    artistIdVector = np.unique(artist_names)\n",
    "    for name in artistIdVector:\n",
    "        newDirectory = os.path.join(directory, name)\n",
    "        finalDir = newDirectory + '/'\n",
    "        if not os.path.exists(finalDir):\n",
    "            os.makedirs(finalDir)"
   ]
  },
  {
   "cell_type": "code",
   "execution_count": null,
   "metadata": {
    "collapsed": true
   },
   "outputs": [],
   "source": [
    "createArtistDirs('data/painter-by-numbers/train/')\n",
    "createArtistDirs('data/painter-by-numbers/valid/')\n",
    "createArtistDirs('data/painter-by-numbers/sample/train/')\n",
    "createArtistDirs('data/painter-by-numbers/sample/valid/')"
   ]
  },
  {
   "cell_type": "markdown",
   "metadata": {},
   "source": [
    "Next, we want to move the tagged files into appropriate directories that share the first $32$ characters with the filename."
   ]
  },
  {
   "cell_type": "code",
   "execution_count": 28,
   "metadata": {
    "collapsed": true
   },
   "outputs": [],
   "source": [
    "import shutil\n",
    "\n",
    "directory = 'data/painter-by-numbers/train/'\n",
    "\n",
    "def moveFilesToDir(directory):\n",
    "    for filename in os.listdir(directory):\n",
    "        if '.jpg' in filename:\n",
    "            artistId = filename[:32]\n",
    "            fullDir = os.path.join(directory,filename)\n",
    "\n",
    "            #make the final directory for the jpg\n",
    "            newDir = os.path.join(directory, artistId)\n",
    "            newDir = newDir + '/'\n",
    "            shutil.copy(fullDir, newDir)"
   ]
  },
  {
   "cell_type": "code",
   "execution_count": null,
   "metadata": {
    "collapsed": true
   },
   "outputs": [],
   "source": [
    "moveFilesToDir('data/painter-by-numbers/train/')\n",
    "moveFilesToDir('data/painter-by-numbers/valid/')\n",
    "moveFilesToDir('data/painter-by-numbers/sample/train/')\n",
    "moveFilesToDir('data/painter-by-numbers/sample/valid/')"
   ]
  },
  {
   "cell_type": "markdown",
   "metadata": {},
   "source": [
    "Next, we have to go through $each$ file we just made and put JPGs into, and chop off the first $33$ characters in the name, which are the artist ID and an underscore. "
   ]
  },
  {
   "cell_type": "code",
   "execution_count": 30,
   "metadata": {},
   "outputs": [
    {
     "name": "stdout",
     "output_type": "stream",
     "text": [
      "data/painter-by-numbers/train/85a0c03bcbe27be6d6166b4f4833b55a/85a0c03bcbe27be6d6166b4f4833b55a_75330.jpg\n",
      "data/painter-by-numbers/train/85a0c03bcbe27be6d6166b4f4833b55a/75330.jpg/85a0c03bcbe27be6d6166b4f4833b55a_87381.jpg\n"
     ]
    },
    {
     "ename": "OSError",
     "evalue": "[Errno 20] Not a directory",
     "output_type": "error",
     "traceback": [
      "\u001b[0;31m---------------------------------------------------------------------------\u001b[0m",
      "\u001b[0;31mOSError\u001b[0m                                   Traceback (most recent call last)",
      "\u001b[0;32m<ipython-input-30-acbd6f735261>\u001b[0m in \u001b[0;36m<module>\u001b[0;34m()\u001b[0m\n\u001b[1;32m      6\u001b[0m         \u001b[0;32mprint\u001b[0m\u001b[0;34m(\u001b[0m\u001b[0mfullDir\u001b[0m\u001b[0;34m)\u001b[0m\u001b[0;34m\u001b[0m\u001b[0m\n\u001b[1;32m      7\u001b[0m         \u001b[0mnewDir\u001b[0m \u001b[0;34m=\u001b[0m \u001b[0mos\u001b[0m\u001b[0;34m.\u001b[0m\u001b[0mpath\u001b[0m\u001b[0;34m.\u001b[0m\u001b[0mjoin\u001b[0m\u001b[0;34m(\u001b[0m\u001b[0mnewDir\u001b[0m\u001b[0;34m,\u001b[0m \u001b[0mfilename\u001b[0m\u001b[0;34m[\u001b[0m\u001b[0;36m33\u001b[0m\u001b[0;34m:\u001b[0m\u001b[0;34m]\u001b[0m\u001b[0;34m)\u001b[0m \u001b[0;31m#this is the filename w/ the artistID and underscore chopped off.\u001b[0m\u001b[0;34m\u001b[0m\u001b[0m\n\u001b[0;32m----> 8\u001b[0;31m         \u001b[0mos\u001b[0m\u001b[0;34m.\u001b[0m\u001b[0mrename\u001b[0m\u001b[0;34m(\u001b[0m\u001b[0mfullDir\u001b[0m\u001b[0;34m,\u001b[0m \u001b[0mnewDir\u001b[0m\u001b[0;34m)\u001b[0m\u001b[0;34m\u001b[0m\u001b[0m\n\u001b[0m",
      "\u001b[0;31mOSError\u001b[0m: [Errno 20] Not a directory"
     ]
    }
   ],
   "source": [
    "for fileHead in os.listdir(directory):\n",
    "    newDir = os.path.join(directory,fileHead)\n",
    "    \n",
    "    for filename in os.listdir(newDir):\n",
    "        fullDir = os.path.join(newDir, filename)\n",
    "        print(fullDir)\n",
    "        newDir = os.path.join(newDir, filename[33:]) #this is the filename w/ the artistID and underscore chopped off.\n",
    "        os.rename(fullDir, newDir)"
   ]
  },
  {
   "cell_type": "code",
   "execution_count": 33,
   "metadata": {},
   "outputs": [
    {
     "name": "stdout",
     "output_type": "stream",
     "text": [
      "data/painter-by-numbers/train/85a0c03bcbe27be6d6166b4f4833b55a/85a0c03bcbe27be6d6166b4f4833b55a_87555.jpg\n",
      "data/painter-by-numbers/train/85a0c03bcbe27be6d6166b4f4833b55a/87555.jpg/85a0c03bcbe27be6d6166b4f4833b55a_83775.jpg\n"
     ]
    },
    {
     "ename": "OSError",
     "evalue": "[Errno 20] Not a directory",
     "output_type": "error",
     "traceback": [
      "\u001b[0;31m---------------------------------------------------------------------------\u001b[0m",
      "\u001b[0;31mOSError\u001b[0m                                   Traceback (most recent call last)",
      "\u001b[0;32m<ipython-input-33-e884b731cd73>\u001b[0m in \u001b[0;36m<module>\u001b[0;34m()\u001b[0m\n\u001b[1;32m      6\u001b[0m \u001b[0;34m\u001b[0m\u001b[0m\n\u001b[1;32m      7\u001b[0m     \u001b[0mnewDir\u001b[0m \u001b[0;34m=\u001b[0m \u001b[0mos\u001b[0m\u001b[0;34m.\u001b[0m\u001b[0mpath\u001b[0m\u001b[0;34m.\u001b[0m\u001b[0mjoin\u001b[0m\u001b[0;34m(\u001b[0m\u001b[0mnewDir\u001b[0m\u001b[0;34m,\u001b[0m \u001b[0mfilename\u001b[0m\u001b[0;34m[\u001b[0m\u001b[0;36m33\u001b[0m\u001b[0;34m:\u001b[0m\u001b[0;34m]\u001b[0m\u001b[0;34m)\u001b[0m\u001b[0;34m\u001b[0m\u001b[0m\n\u001b[0;32m----> 8\u001b[0;31m     \u001b[0mos\u001b[0m\u001b[0;34m.\u001b[0m\u001b[0mrename\u001b[0m\u001b[0;34m(\u001b[0m\u001b[0mfullDir\u001b[0m\u001b[0;34m,\u001b[0m\u001b[0mnewDir\u001b[0m\u001b[0;34m)\u001b[0m\u001b[0;34m\u001b[0m\u001b[0m\n\u001b[0m",
      "\u001b[0;31mOSError\u001b[0m: [Errno 20] Not a directory"
     ]
    }
   ],
   "source": [
    "artistName ='85a0c03bcbe27be6d6166b4f4833b55a'\n",
    "\n",
    "#TODO: it appears fullDir is not removing the old filenames and is just adding new filenames on top of them--figure out how \n",
    "#to chop off that filename before moving onto the next file. \n",
    "\n",
    "newDir = os.path.join(directory, artistName)\n",
    "for filename in os.listdir(newDir):\n",
    "    fullDir = os.path.join(newDir, filename)\n",
    "    print(fullDir)\n",
    "    \n",
    "    newDir = os.path.join(newDir, filename[33:])\n",
    "    os.rename(fullDir,newDir)"
   ]
  },
  {
   "cell_type": "code",
   "execution_count": null,
   "metadata": {
    "collapsed": true
   },
   "outputs": [],
   "source": [
    "import utils; reload(utils)\n",
    "from utils import plots"
   ]
  },
  {
   "cell_type": "code",
   "execution_count": null,
   "metadata": {
    "collapsed": true
   },
   "outputs": [],
   "source": [
    "batch_size=64\n",
    "import vgg16; reload(vgg16)\n",
    "from vgg16 import Vgg16"
   ]
  },
  {
   "cell_type": "code",
   "execution_count": null,
   "metadata": {
    "collapsed": true
   },
   "outputs": [],
   "source": [
    "vgg = Vgg16()"
   ]
  },
  {
   "cell_type": "markdown",
   "metadata": {},
   "source": [
    "After declaring vgg as a Vgg16() object, we're going to do a few things: \n",
    "1. Get the data in batches (train and validation)\n",
    "2. Fit vgg to the batches after finetuning\n",
    "3. save weights of vgg"
   ]
  },
  {
   "cell_type": "code",
   "execution_count": null,
   "metadata": {
    "collapsed": true
   },
   "outputs": [],
   "source": [
    "batches = vgg.get_batches(path+'train', batch_size=batch_size)"
   ]
  }
 ],
 "metadata": {
  "kernelspec": {
   "display_name": "Python 2",
   "language": "python",
   "name": "python2"
  },
  "language_info": {
   "codemirror_mode": {
    "name": "ipython",
    "version": 2
   },
   "file_extension": ".py",
   "mimetype": "text/x-python",
   "name": "python",
   "nbconvert_exporter": "python",
   "pygments_lexer": "ipython2",
   "version": "2.7.14"
  }
 },
 "nbformat": 4,
 "nbformat_minor": 2
}
