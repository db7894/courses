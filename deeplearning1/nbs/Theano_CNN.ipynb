{
 "cells": [
  {
   "cell_type": "code",
   "execution_count": 4,
   "metadata": {},
   "outputs": [],
   "source": [
    "import theano\n",
    "from theano import tensor as T\n",
    "from theano.tensor.nnet import conv2d\n",
    "\n",
    "import numpy\n",
    "\n",
    "rng = numpy.random.RandomState(23455)\n",
    "\n",
    "input = T.tensor4(name='input')\n",
    "\n",
    "w_shp = (2,3,9,9)\n",
    "w_bound = numpy.sqrt(3 * 9 * 9)\n",
    "W = theano.shared(numpy.asarray(\n",
    "            rng.uniform(\n",
    "                low=-1.0 / w_bound,\n",
    "                high=1.0 / w_bound,\n",
    "                size=w_shp),\n",
    "            dtype=input.dtype), name = 'W')\n",
    "\n",
    "\n",
    "b_shp = (2,)\n",
    "b = theano.shared(numpy.asarray(\n",
    "            rng.uniform(low=-.5, high=-.5, size=b_shp),\n",
    "            dtype=input.dtype), name = 'b')\n",
    "\n",
    "conv_out = conv2d(input, W)\n",
    "\n",
    "output = T.nnet.sigmoid(conv_out + b.dimshuffle('x',0,'x','x'))\n",
    "\n",
    "f = theano.function([input],output)"
   ]
  },
  {
   "cell_type": "code",
   "execution_count": 7,
   "metadata": {},
   "outputs": [
    {
     "ename": "TypeError",
     "evalue": "Bad input argument to theano function with name \"<ipython-input-4-0ea0436a7cee>:30\" at index 0 (0-based).  \nBacktrace when that variable is created:\n\n  File \"/home/dbashir/.local/lib/python2.7/site-packages/ipykernel/kernelbase.py\", line 233, in dispatch_shell\n    handler(stream, idents, msg)\n  File \"/home/dbashir/.local/lib/python2.7/site-packages/ipykernel/kernelbase.py\", line 399, in execute_request\n    user_expressions, allow_stdin)\n  File \"/home/dbashir/.local/lib/python2.7/site-packages/ipykernel/ipkernel.py\", line 208, in do_execute\n    res = shell.run_cell(code, store_history=store_history, silent=silent)\n  File \"/home/dbashir/.local/lib/python2.7/site-packages/ipykernel/zmqshell.py\", line 537, in run_cell\n    return super(ZMQInteractiveShell, self).run_cell(*args, **kwargs)\n  File \"/home/dbashir/.local/lib/python2.7/site-packages/IPython/core/interactiveshell.py\", line 2718, in run_cell\n    interactivity=interactivity, compiler=compiler, result=result)\n  File \"/home/dbashir/.local/lib/python2.7/site-packages/IPython/core/interactiveshell.py\", line 2822, in run_ast_nodes\n    if self.run_code(code, result):\n  File \"/home/dbashir/.local/lib/python2.7/site-packages/IPython/core/interactiveshell.py\", line 2882, in run_code\n    exec(code_obj, self.user_global_ns, self.user_ns)\n  File \"<ipython-input-4-0ea0436a7cee>\", line 9, in <module>\n    input = T.tensor4(name='input')\nTensorType(float32, 4D) cannot store a value of dtype float64 without risking loss of precision. If you do not mind this loss, you can: 1) explicitly cast your data to float32, or 2) set \"allow_input_downcast=True\" when calling \"function\". Value: \"array([[[[ 0.0859375 ,  0.109375  ,  0.08984375, ...,  0.07421875,\n           0.05859375,  0.0703125 ],\n         [ 0.09375   ,  0.10546875,  0.0859375 , ...,  0.05859375,\n           0.05859375,  0.06640625],\n         [ 0.109375  ,  0.109375  ,  0.0859375 , ...,  0.0703125 ,\n           0.09375   ,  0.06640625],\n         ..., \n         [ 0.06640625,  0.08203125,  0.05078125, ...,  0.06640625,\n           0.078125  ,  0.0859375 ],\n         [ 0.046875  ,  0.05078125,  0.0390625 , ...,  0.05859375,\n           0.06640625,  0.0703125 ],\n         [ 0.046875  ,  0.04296875,  0.0234375 , ...,  0.0703125 ,\n           0.06640625,  0.05078125]],\n\n        [[ 0.0546875 ,  0.0859375 ,  0.0859375 , ...,  0.06640625,\n           0.0625    ,  0.08203125],\n         [ 0.06640625,  0.0859375 ,  0.0859375 , ...,  0.04296875,\n           0.0546875 ,  0.0703125 ],\n         [ 0.0859375 ,  0.09375   ,  0.0859375 , ...,  0.046875  ,\n           0.07421875,  0.0625    ],\n         ..., \n         [ 0.07421875,  0.09375   ,  0.08203125, ...,  0.0625    ,\n           0.07421875,  0.08203125],\n         [ 0.05078125,  0.07421875,  0.06640625, ...,  0.0625    ,\n           0.0703125 ,  0.07421875],\n         [ 0.05859375,  0.06640625,  0.0625    , ...,  0.078125  ,\n           0.07421875,  0.05859375]],\n\n        [[ 0.10546875,  0.125     ,  0.109375  , ...,  0.0703125 ,\n           0.078125  ,  0.1015625 ],\n         [ 0.09765625,  0.109375  ,  0.09375   , ...,  0.046875  ,\n           0.07421875,  0.08984375],\n         [ 0.09375   ,  0.09765625,  0.0859375 , ...,  0.0546875 ,\n           0.09765625,  0.0859375 ],\n         ..., \n         [ 0.03125   ,  0.05859375,  0.0390625 , ...,  0.0859375 ,\n           0.09765625,  0.10546875],\n         [ 0.01953125,  0.03515625,  0.03515625, ...,  0.0703125 ,\n           0.078125  ,  0.08203125],\n         [ 0.0234375 ,  0.02734375,  0.02734375, ...,  0.06640625,\n           0.0625    ,  0.046875  ]]]])\"",
     "output_type": "error",
     "traceback": [
      "\u001b[0;31m---------------------------------------------------------------------------\u001b[0m",
      "\u001b[0;31mTypeError\u001b[0m                                 Traceback (most recent call last)",
      "\u001b[0;32m<ipython-input-7-89083673ae2d>\u001b[0m in \u001b[0;36m<module>\u001b[0;34m()\u001b[0m\n\u001b[1;32m     10\u001b[0m \u001b[0;31m# put image in 4D tensor of shape (1, 3, height, width)\u001b[0m\u001b[0;34m\u001b[0m\u001b[0;34m\u001b[0m\u001b[0m\n\u001b[1;32m     11\u001b[0m \u001b[0mimg_\u001b[0m \u001b[0;34m=\u001b[0m \u001b[0mimg\u001b[0m\u001b[0;34m.\u001b[0m\u001b[0mtranspose\u001b[0m\u001b[0;34m(\u001b[0m\u001b[0;36m2\u001b[0m\u001b[0;34m,\u001b[0m \u001b[0;36m0\u001b[0m\u001b[0;34m,\u001b[0m \u001b[0;36m1\u001b[0m\u001b[0;34m)\u001b[0m\u001b[0;34m.\u001b[0m\u001b[0mreshape\u001b[0m\u001b[0;34m(\u001b[0m\u001b[0;36m1\u001b[0m\u001b[0;34m,\u001b[0m \u001b[0;36m3\u001b[0m\u001b[0;34m,\u001b[0m \u001b[0;36m639\u001b[0m\u001b[0;34m,\u001b[0m \u001b[0;36m516\u001b[0m\u001b[0;34m)\u001b[0m\u001b[0;34m\u001b[0m\u001b[0m\n\u001b[0;32m---> 12\u001b[0;31m \u001b[0mfiltered_img\u001b[0m \u001b[0;34m=\u001b[0m \u001b[0mf\u001b[0m\u001b[0;34m(\u001b[0m\u001b[0mimg_\u001b[0m\u001b[0;34m)\u001b[0m\u001b[0;34m\u001b[0m\u001b[0m\n\u001b[0m\u001b[1;32m     13\u001b[0m \u001b[0;34m\u001b[0m\u001b[0m\n\u001b[1;32m     14\u001b[0m \u001b[0mpylab\u001b[0m\u001b[0;34m.\u001b[0m\u001b[0msubplot\u001b[0m\u001b[0;34m(\u001b[0m\u001b[0;36m1\u001b[0m\u001b[0;34m,\u001b[0m\u001b[0;36m3\u001b[0m\u001b[0;34m,\u001b[0m\u001b[0;36m1\u001b[0m\u001b[0;34m)\u001b[0m\u001b[0;34m;\u001b[0m \u001b[0mpylab\u001b[0m\u001b[0;34m.\u001b[0m\u001b[0maxis\u001b[0m\u001b[0;34m(\u001b[0m\u001b[0;34m'off'\u001b[0m\u001b[0;34m)\u001b[0m\u001b[0;34m;\u001b[0m \u001b[0mpylab\u001b[0m\u001b[0;34m.\u001b[0m\u001b[0mimshow\u001b[0m\u001b[0;34m(\u001b[0m\u001b[0mimg\u001b[0m\u001b[0;34m)\u001b[0m\u001b[0;34m\u001b[0m\u001b[0m\n",
      "\u001b[0;32m/home/dbashir/anaconda2/lib/python2.7/site-packages/theano/compile/function_module.pyc\u001b[0m in \u001b[0;36m__call__\u001b[0;34m(self, *args, **kwargs)\u001b[0m\n\u001b[1;32m    811\u001b[0m                         s.storage[0] = s.type.filter(\n\u001b[1;32m    812\u001b[0m                             \u001b[0marg\u001b[0m\u001b[0;34m,\u001b[0m \u001b[0mstrict\u001b[0m\u001b[0;34m=\u001b[0m\u001b[0ms\u001b[0m\u001b[0;34m.\u001b[0m\u001b[0mstrict\u001b[0m\u001b[0;34m,\u001b[0m\u001b[0;34m\u001b[0m\u001b[0m\n\u001b[0;32m--> 813\u001b[0;31m                             allow_downcast=s.allow_downcast)\n\u001b[0m\u001b[1;32m    814\u001b[0m \u001b[0;34m\u001b[0m\u001b[0m\n\u001b[1;32m    815\u001b[0m                     \u001b[0;32mexcept\u001b[0m \u001b[0mException\u001b[0m \u001b[0;32mas\u001b[0m \u001b[0me\u001b[0m\u001b[0;34m:\u001b[0m\u001b[0;34m\u001b[0m\u001b[0m\n",
      "\u001b[0;32m/home/dbashir/anaconda2/lib/python2.7/site-packages/theano/tensor/type.pyc\u001b[0m in \u001b[0;36mfilter\u001b[0;34m(self, data, strict, allow_downcast)\u001b[0m\n\u001b[1;32m    138\u001b[0m                             \u001b[0;34m'\"function\". Value: \"%s\"'\u001b[0m\u001b[0;34m\u001b[0m\u001b[0m\n\u001b[1;32m    139\u001b[0m                             % (self, data.dtype, self.dtype, repr(data)))\n\u001b[0;32m--> 140\u001b[0;31m                         \u001b[0;32mraise\u001b[0m \u001b[0mTypeError\u001b[0m\u001b[0;34m(\u001b[0m\u001b[0merr_msg\u001b[0m\u001b[0;34m)\u001b[0m\u001b[0;34m\u001b[0m\u001b[0m\n\u001b[0m\u001b[1;32m    141\u001b[0m                 elif (allow_downcast is None and\n\u001b[1;32m    142\u001b[0m                         \u001b[0mtype\u001b[0m\u001b[0;34m(\u001b[0m\u001b[0mdata\u001b[0m\u001b[0;34m)\u001b[0m \u001b[0;32mis\u001b[0m \u001b[0mfloat\u001b[0m \u001b[0;32mand\u001b[0m\u001b[0;34m\u001b[0m\u001b[0m\n",
      "\u001b[0;31mTypeError\u001b[0m: Bad input argument to theano function with name \"<ipython-input-4-0ea0436a7cee>:30\" at index 0 (0-based).  \nBacktrace when that variable is created:\n\n  File \"/home/dbashir/.local/lib/python2.7/site-packages/ipykernel/kernelbase.py\", line 233, in dispatch_shell\n    handler(stream, idents, msg)\n  File \"/home/dbashir/.local/lib/python2.7/site-packages/ipykernel/kernelbase.py\", line 399, in execute_request\n    user_expressions, allow_stdin)\n  File \"/home/dbashir/.local/lib/python2.7/site-packages/ipykernel/ipkernel.py\", line 208, in do_execute\n    res = shell.run_cell(code, store_history=store_history, silent=silent)\n  File \"/home/dbashir/.local/lib/python2.7/site-packages/ipykernel/zmqshell.py\", line 537, in run_cell\n    return super(ZMQInteractiveShell, self).run_cell(*args, **kwargs)\n  File \"/home/dbashir/.local/lib/python2.7/site-packages/IPython/core/interactiveshell.py\", line 2718, in run_cell\n    interactivity=interactivity, compiler=compiler, result=result)\n  File \"/home/dbashir/.local/lib/python2.7/site-packages/IPython/core/interactiveshell.py\", line 2822, in run_ast_nodes\n    if self.run_code(code, result):\n  File \"/home/dbashir/.local/lib/python2.7/site-packages/IPython/core/interactiveshell.py\", line 2882, in run_code\n    exec(code_obj, self.user_global_ns, self.user_ns)\n  File \"<ipython-input-4-0ea0436a7cee>\", line 9, in <module>\n    input = T.tensor4(name='input')\nTensorType(float32, 4D) cannot store a value of dtype float64 without risking loss of precision. If you do not mind this loss, you can: 1) explicitly cast your data to float32, or 2) set \"allow_input_downcast=True\" when calling \"function\". Value: \"array([[[[ 0.0859375 ,  0.109375  ,  0.08984375, ...,  0.07421875,\n           0.05859375,  0.0703125 ],\n         [ 0.09375   ,  0.10546875,  0.0859375 , ...,  0.05859375,\n           0.05859375,  0.06640625],\n         [ 0.109375  ,  0.109375  ,  0.0859375 , ...,  0.0703125 ,\n           0.09375   ,  0.06640625],\n         ..., \n         [ 0.06640625,  0.08203125,  0.05078125, ...,  0.06640625,\n           0.078125  ,  0.0859375 ],\n         [ 0.046875  ,  0.05078125,  0.0390625 , ...,  0.05859375,\n           0.06640625,  0.0703125 ],\n         [ 0.046875  ,  0.04296875,  0.0234375 , ...,  0.0703125 ,\n           0.06640625,  0.05078125]],\n\n        [[ 0.0546875 ,  0.0859375 ,  0.0859375 , ...,  0.06640625,\n           0.0625    ,  0.08203125],\n         [ 0.06640625,  0.0859375 ,  0.0859375 , ...,  0.04296875,\n           0.0546875 ,  0.0703125 ],\n         [ 0.0859375 ,  0.09375   ,  0.0859375 , ...,  0.046875  ,\n           0.07421875,  0.0625    ],\n         ..., \n         [ 0.07421875,  0.09375   ,  0.08203125, ...,  0.0625    ,\n           0.07421875,  0.08203125],\n         [ 0.05078125,  0.07421875,  0.06640625, ...,  0.0625    ,\n           0.0703125 ,  0.07421875],\n         [ 0.05859375,  0.06640625,  0.0625    , ...,  0.078125  ,\n           0.07421875,  0.05859375]],\n\n        [[ 0.10546875,  0.125     ,  0.109375  , ...,  0.0703125 ,\n           0.078125  ,  0.1015625 ],\n         [ 0.09765625,  0.109375  ,  0.09375   , ...,  0.046875  ,\n           0.07421875,  0.08984375],\n         [ 0.09375   ,  0.09765625,  0.0859375 , ...,  0.0546875 ,\n           0.09765625,  0.0859375 ],\n         ..., \n         [ 0.03125   ,  0.05859375,  0.0390625 , ...,  0.0859375 ,\n           0.09765625,  0.10546875],\n         [ 0.01953125,  0.03515625,  0.03515625, ...,  0.0703125 ,\n           0.078125  ,  0.08203125],\n         [ 0.0234375 ,  0.02734375,  0.02734375, ...,  0.06640625,\n           0.0625    ,  0.046875  ]]]])\""
     ]
    }
   ],
   "source": [
    "import numpy\n",
    "import pylab\n",
    "from PIL import Image\n",
    "\n",
    "# open random image of dimensions 639x516\n",
    "img = Image.open(open('data/images/3wolfmoon.jpg'))\n",
    "# dimensions are (height, width, channel)\n",
    "img = numpy.asarray(img, dtype='float64') / 256.\n",
    "\n",
    "# put image in 4D tensor of shape (1, 3, height, width)\n",
    "img_ = img.transpose(2, 0, 1).reshape(1, 3, 639, 516)\n",
    "filtered_img = f(img_)\n",
    "\n",
    "pylab.subplot(1,3,1); pylab.axis('off'); pylab.imshow(img)\n",
    "pylab.gray();\n",
    "pylab.subplot(1,3,2); pylab.axis('off'); pylab.imshow(filtered_img[0,0,:,:])\n",
    "pylab.subplot(1,3,3); pylab.axis('off'); pylab.imshow(filtered_img[0,1,:,:])\n",
    "pylab.show()"
   ]
  },
  {
   "cell_type": "code",
   "execution_count": null,
   "metadata": {
    "collapsed": true
   },
   "outputs": [],
   "source": []
  }
 ],
 "metadata": {
  "kernelspec": {
   "display_name": "Python [conda env:anaconda2]",
   "language": "python",
   "name": "conda-env-anaconda2-py"
  },
  "language_info": {
   "codemirror_mode": {
    "name": "ipython",
    "version": 2
   },
   "file_extension": ".py",
   "mimetype": "text/x-python",
   "name": "python",
   "nbconvert_exporter": "python",
   "pygments_lexer": "ipython2",
   "version": "2.7.14"
  }
 },
 "nbformat": 4,
 "nbformat_minor": 2
}
