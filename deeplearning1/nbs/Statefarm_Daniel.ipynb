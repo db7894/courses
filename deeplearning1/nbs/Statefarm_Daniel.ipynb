{
 "cells": [
  {
   "cell_type": "code",
   "execution_count": 1,
   "metadata": {},
   "outputs": [
    {
     "data": {
      "text/plain": [
       "u'/data1/dbashir/courses/deeplearning1/nbs'"
      ]
     },
     "execution_count": 1,
     "metadata": {},
     "output_type": "execute_result"
    }
   ],
   "source": [
    "%pwd"
   ]
  },
  {
   "cell_type": "code",
   "execution_count": 2,
   "metadata": {
    "collapsed": true
   },
   "outputs": [],
   "source": [
    "#Create references to important directories we will use over and over\n",
    "import os, sys\n",
    "current_dir = os.getcwd()\n",
    "LESSON_HOME_DIR = current_dir\n",
    "DATA_HOME_DIR = current_dir+'/data/state-farm'"
   ]
  },
  {
   "cell_type": "code",
   "execution_count": 3,
   "metadata": {},
   "outputs": [
    {
     "name": "stderr",
     "output_type": "stream",
     "text": [
      "Using cuDNN version 5103 on context None\n",
      "Preallocating 10867/11439 Mb (0.950000) on cuda\n",
      "Mapped name None to device cuda: Tesla K40c (0000:81:00.0)\n",
      "Using Theano backend.\n"
     ]
    }
   ],
   "source": [
    "#Allow relative imports to directories above lesson1/\n",
    "sys.path.insert(1, os.path.join(sys.path[0], '..'))\n",
    "\n",
    "#import modules\n",
    "from utils import *\n",
    "from vgg16 import Vgg16\n",
    "\n",
    "#Instantiate plotting tool\n",
    "#In Jupyter notebooks, you will need to run this command before doing any plotting\n",
    "%matplotlib inline"
   ]
  },
  {
   "cell_type": "code",
   "execution_count": 4,
   "metadata": {},
   "outputs": [
    {
     "name": "stdout",
     "output_type": "stream",
     "text": [
      "/data1/dbashir/courses/deeplearning1/nbs/data/state-farm\n"
     ]
    }
   ],
   "source": [
    "#Create directories\n",
    "%cd $DATA_HOME_DIR\n",
    "%mkdir valid"
   ]
  },
  {
   "cell_type": "code",
   "execution_count": 5,
   "metadata": {},
   "outputs": [
    {
     "name": "stdout",
     "output_type": "stream",
     "text": [
      "/data1/dbashir/courses/deeplearning1/nbs/data/state-farm/train\n"
     ]
    }
   ],
   "source": [
    "%cd $DATA_HOME_DIR/train"
   ]
  },
  {
   "cell_type": "code",
   "execution_count": 7,
   "metadata": {},
   "outputs": [
    {
     "ename": "IndexError",
     "evalue": "index 0 is out of bounds for axis 0 with size 0",
     "output_type": "error",
     "traceback": [
      "\u001b[0;31m---------------------------------------------------------------------------\u001b[0m",
      "\u001b[0;31mIndexError\u001b[0m                                Traceback (most recent call last)",
      "\u001b[0;32m<ipython-input-7-a3c67598f633>\u001b[0m in \u001b[0;36m<module>\u001b[0;34m()\u001b[0m\n\u001b[1;32m      1\u001b[0m \u001b[0mg\u001b[0m \u001b[0;34m=\u001b[0m \u001b[0mglob\u001b[0m\u001b[0;34m(\u001b[0m\u001b[0;34m'*.jpg'\u001b[0m\u001b[0;34m)\u001b[0m\u001b[0;34m\u001b[0m\u001b[0m\n\u001b[1;32m      2\u001b[0m \u001b[0mshuf\u001b[0m \u001b[0;34m=\u001b[0m \u001b[0mnp\u001b[0m\u001b[0;34m.\u001b[0m\u001b[0mrandom\u001b[0m\u001b[0;34m.\u001b[0m\u001b[0mpermutation\u001b[0m\u001b[0;34m(\u001b[0m\u001b[0mg\u001b[0m\u001b[0;34m)\u001b[0m\u001b[0;34m\u001b[0m\u001b[0m\n\u001b[0;32m----> 3\u001b[0;31m \u001b[0;32mfor\u001b[0m \u001b[0mi\u001b[0m \u001b[0;32min\u001b[0m \u001b[0mrange\u001b[0m\u001b[0;34m(\u001b[0m\u001b[0;36m5000\u001b[0m\u001b[0;34m)\u001b[0m\u001b[0;34m:\u001b[0m \u001b[0mos\u001b[0m\u001b[0;34m.\u001b[0m\u001b[0mrename\u001b[0m\u001b[0;34m(\u001b[0m\u001b[0mDATA_HOME_DIR\u001b[0m\u001b[0;34m+\u001b[0m\u001b[0;34m'/train/'\u001b[0m \u001b[0;34m+\u001b[0m \u001b[0mshuf\u001b[0m\u001b[0;34m[\u001b[0m\u001b[0mi\u001b[0m\u001b[0;34m]\u001b[0m\u001b[0;34m,\u001b[0m \u001b[0mDATA_HOME_DIR\u001b[0m\u001b[0;34m+\u001b[0m\u001b[0;34m'/valid/'\u001b[0m \u001b[0;34m+\u001b[0m \u001b[0mshuf\u001b[0m\u001b[0;34m[\u001b[0m\u001b[0mi\u001b[0m\u001b[0;34m]\u001b[0m\u001b[0;34m)\u001b[0m\u001b[0;34m\u001b[0m\u001b[0m\n\u001b[0m",
      "\u001b[0;31mIndexError\u001b[0m: index 0 is out of bounds for axis 0 with size 0"
     ]
    }
   ],
   "source": [
    "g = glob('*.jpg')\n",
    "shuf = np.random.permutation(g)\n",
    "for i in range(5000): os.rename(shuf[i], DATA_HOME_DIR+'/valid/' + shuf[i])"
   ]
  },
  {
   "cell_type": "code",
   "execution_count": 7,
   "metadata": {
    "collapsed": true
   },
   "outputs": [],
   "source": [
    "from shutil import copyfile"
   ]
  },
  {
   "cell_type": "code",
   "execution_count": 8,
   "metadata": {
    "collapsed": true
   },
   "outputs": [],
   "source": [
    "g = glob('*.jpg')\n",
    "shuf = np.random.permutation(g)\n",
    "for i in range(200): copyfile(shuf[i], DATA_HOME_DIR+'/sample/train/' + shuf[i])"
   ]
  },
  {
   "cell_type": "code",
   "execution_count": 9,
   "metadata": {},
   "outputs": [
    {
     "name": "stdout",
     "output_type": "stream",
     "text": [
      "/data1/dbashir/courses/deeplearning1/nbs/data/state-farm/valid\n"
     ]
    }
   ],
   "source": [
    "%cd $DATA_HOME_DIR/valid"
   ]
  },
  {
   "cell_type": "code",
   "execution_count": 10,
   "metadata": {
    "collapsed": true
   },
   "outputs": [],
   "source": [
    "g = glob('*.jpg')\n",
    "shuf = np.random.permutation(g)\n",
    "for i in range(50): copyfile(shuf[i], DATA_HOME_DIR+'/sample/valid/' + shuf[i])"
   ]
  },
  {
   "cell_type": "code",
   "execution_count": 13,
   "metadata": {},
   "outputs": [
    {
     "name": "stdout",
     "output_type": "stream",
     "text": [
      "/data1/dbashir/courses/deeplearning1/nbs/data/state-farm/sample/train\n",
      "mkdir: cannot create directory 'c0': File exists\n",
      "mkdir: cannot create directory 'c1': File exists\n",
      "mkdir: cannot create directory 'c2': File exists\n",
      "mkdir: cannot create directory 'c3': File exists\n",
      "mkdir: cannot create directory 'c4': File exists\n",
      "mkdir: cannot create directory 'c5': File exists\n",
      "mkdir: cannot create directory 'c6': File exists\n",
      "mkdir: cannot create directory 'c7': File exists\n",
      "mkdir: cannot create directory 'c8': File exists\n",
      "mkdir: cannot create directory 'c9': File exists\n",
      "/data1/dbashir/courses/deeplearning1/nbs/data/state-farm/sample/valid\n",
      "mkdir: cannot create directory 'c0': File exists\n",
      "mkdir: cannot create directory 'c1': File exists\n",
      "mkdir: cannot create directory 'c2': File exists\n",
      "mkdir: cannot create directory 'c3': File exists\n",
      "mkdir: cannot create directory 'c4': File exists\n",
      "mkdir: cannot create directory 'c5': File exists\n",
      "mkdir: cannot create directory 'c6': File exists\n",
      "mkdir: cannot create directory 'c7': File exists\n",
      "mkdir: cannot create directory 'c8': File exists\n",
      "mkdir: cannot create directory 'c9': File exists\n",
      "mv: cannot stat 'c0_*.jpg': No such file or directory\n",
      "mv: cannot stat 'c1_*.jpg': No such file or directory\n",
      "mv: cannot stat 'c2_*.jpg': No such file or directory\n",
      "mv: cannot stat 'c3_*.jpg': No such file or directory\n",
      "mv: cannot stat 'c4_*.jpg': No such file or directory\n",
      "mv: cannot stat 'c5_*.jpg': No such file or directory\n",
      "mv: cannot stat 'c6_*.jpg': No such file or directory\n",
      "mv: cannot stat 'c7_*.jpg': No such file or directory\n",
      "mv: cannot stat 'c8_*.jpg': No such file or directory\n",
      "mv: cannot stat 'c9_*.jpg': No such file or directory\n",
      "/data1/dbashir/courses/deeplearning1/nbs/data/state-farm/valid\n",
      "mkdir: cannot create directory 'c0': File exists\n",
      "mkdir: cannot create directory 'c1': File exists\n",
      "mkdir: cannot create directory 'c2': File exists\n",
      "mkdir: cannot create directory 'c3': File exists\n",
      "mkdir: cannot create directory 'c4': File exists\n",
      "mkdir: cannot create directory 'c5': File exists\n",
      "mkdir: cannot create directory 'c6': File exists\n",
      "mkdir: cannot create directory 'c7': File exists\n",
      "mkdir: cannot create directory 'c8': File exists\n",
      "mkdir: cannot create directory 'c9': File exists\n",
      "mv: cannot stat 'c0_*.jpg': No such file or directory\n",
      "mv: cannot stat 'c1_*.jpg': No such file or directory\n",
      "mv: cannot stat 'c2_*.jpg': No such file or directory\n",
      "mv: cannot stat 'c3_*.jpg': No such file or directory\n",
      "mv: cannot stat 'c4_*.jpg': No such file or directory\n",
      "mv: cannot stat 'c5_*.jpg': No such file or directory\n",
      "mv: cannot stat 'c6_*.jpg': No such file or directory\n",
      "mv: cannot stat 'c7_*.jpg': No such file or directory\n",
      "mv: cannot stat 'c8_*.jpg': No such file or directory\n",
      "mv: cannot stat 'c9_*.jpg': No such file or directory\n",
      "/data1/dbashir/courses/deeplearning1/nbs/data/state-farm/train\n",
      "mv: cannot stat 'c0_*.jpg': No such file or directory\n",
      "mv: cannot stat 'c1_*.jpg': No such file or directory\n",
      "mv: cannot stat 'c2_*.jpg': No such file or directory\n",
      "mv: cannot stat 'c3_*.jpg': No such file or directory\n",
      "mv: cannot stat 'c4_*.jpg': No such file or directory\n",
      "mv: cannot stat 'c5_*.jpg': No such file or directory\n",
      "mv: cannot stat 'c6_*.jpg': No such file or directory\n",
      "mv: cannot stat 'c7_*.jpg': No such file or directory\n",
      "mv: cannot stat 'c8_*.jpg': No such file or directory\n",
      "mv: cannot stat 'c9_*.jpg': No such file or directory\n"
     ]
    }
   ],
   "source": [
    "#Divide images into separate directories\n",
    "\n",
    "%cd $DATA_HOME_DIR/sample/train\n",
    "%mkdir c0\n",
    "%mkdir c1\n",
    "%mkdir c2\n",
    "%mkdir c3\n",
    "%mkdir c4\n",
    "%mkdir c5\n",
    "%mkdir c6\n",
    "%mkdir c7\n",
    "%mkdir c8\n",
    "%mkdir c9\n",
    "%mv c0_*.jpg c0/\n",
    "%mv c1_*.jpg c1/\n",
    "%mv c2_*.jpg c2/\n",
    "%mv c3_*.jpg c3/\n",
    "%mv c4_*.jpg c4/\n",
    "%mv c5_*.jpg c5/\n",
    "%mv c6_*.jpg c6/\n",
    "%mv c7_*.jpg c7/\n",
    "%mv c8_*.jpg c8/\n",
    "%mv c9_*.jpg c9/\n",
    "\n",
    "%cd $DATA_HOME_DIR/sample/valid\n",
    "%mkdir c0\n",
    "%mkdir c1\n",
    "%mkdir c2\n",
    "%mkdir c3\n",
    "%mkdir c4\n",
    "%mkdir c5\n",
    "%mkdir c6\n",
    "%mkdir c7\n",
    "%mkdir c8\n",
    "%mkdir c9\n",
    "%mv c0_*.jpg c0/\n",
    "%mv c1_*.jpg c1/\n",
    "%mv c2_*.jpg c2/\n",
    "%mv c3_*.jpg c3/\n",
    "%mv c4_*.jpg c4/\n",
    "%mv c5_*.jpg c5/\n",
    "%mv c6_*.jpg c6/\n",
    "%mv c7_*.jpg c7/\n",
    "%mv c8_*.jpg c8/\n",
    "%mv c9_*.jpg c9/\n",
    "\n",
    "%cd $DATA_HOME_DIR/valid\n",
    "%mkdir c0\n",
    "%mkdir c1\n",
    "%mkdir c2\n",
    "%mkdir c3\n",
    "%mkdir c4\n",
    "%mkdir c5\n",
    "%mkdir c6\n",
    "%mkdir c7\n",
    "%mkdir c8\n",
    "%mkdir c9\n",
    "%mv c0_*.jpg c0/\n",
    "%mv c1_*.jpg c1/\n",
    "%mv c2_*.jpg c2/\n",
    "%mv c3_*.jpg c3/\n",
    "%mv c4_*.jpg c4/\n",
    "%mv c5_*.jpg c5/\n",
    "%mv c6_*.jpg c6/\n",
    "%mv c7_*.jpg c7/\n",
    "%mv c8_*.jpg c8/\n",
    "%mv c9_*.jpg c9/\n",
    "\n",
    "%cd $DATA_HOME_DIR/train\n",
    "%mv c0_*.jpg c0/\n",
    "%mv c1_*.jpg c1/\n",
    "%mv c2_*.jpg c2/\n",
    "%mv c3_*.jpg c3/\n",
    "%mv c4_*.jpg c4/\n",
    "%mv c5_*.jpg c5/\n",
    "%mv c6_*.jpg c6/\n",
    "%mv c7_*.jpg c7/\n",
    "%mv c8_*.jpg c8/\n",
    "%mv c9_*.jpg c9/"
   ]
  },
  {
   "cell_type": "code",
   "execution_count": null,
   "metadata": {
    "collapsed": true
   },
   "outputs": [],
   "source": [
    "# Create single 'unknown' class for test set\n",
    "%cd $DATA_HOME_DIR/test\n",
    "%mv *.jpg unknown/"
   ]
  },
  {
   "cell_type": "code",
   "execution_count": null,
   "metadata": {
    "collapsed": true
   },
   "outputs": [],
   "source": []
  }
 ],
 "metadata": {
  "kernelspec": {
   "display_name": "Python 2",
   "language": "python",
   "name": "python2"
  },
  "language_info": {
   "codemirror_mode": {
    "name": "ipython",
    "version": 2
   },
   "file_extension": ".py",
   "mimetype": "text/x-python",
   "name": "python",
   "nbconvert_exporter": "python",
   "pygments_lexer": "ipython2",
   "version": "2.7.14"
  }
 },
 "nbformat": 4,
 "nbformat_minor": 2
}
