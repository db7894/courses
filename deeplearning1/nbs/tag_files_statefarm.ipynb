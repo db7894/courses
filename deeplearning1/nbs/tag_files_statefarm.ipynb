{
 "cells": [
  {
   "cell_type": "code",
   "execution_count": 1,
   "metadata": {},
   "outputs": [
    {
     "name": "stderr",
     "output_type": "stream",
     "text": [
      "Using cuDNN version 5103 on context None\n",
      "Preallocating 10867/11439 Mb (0.950000) on cuda\n",
      "Mapped name None to device cuda: Tesla K40c (0000:81:00.0)\n",
      "Using Theano backend.\n"
     ]
    }
   ],
   "source": [
    "import sys\n",
    "from utils import *"
   ]
  },
  {
   "cell_type": "code",
   "execution_count": 2,
   "metadata": {
    "collapsed": true
   },
   "outputs": [],
   "source": [
    "%matplotlib inline\n",
    "path = \"data/state-farm\"\n",
    "\n",
    "from __future__ import division,print_function\n",
    "\n",
    "import os, json\n",
    "from glob import glob\n",
    "import numpy as np\n",
    "np.set_printoptions(precision=4, linewidth=100)\n",
    "from matplotlib import pyplot as plt\n",
    "import shutil"
   ]
  },
  {
   "cell_type": "code",
   "execution_count": 3,
   "metadata": {},
   "outputs": [
    {
     "data": {
      "text/plain": [
       "u'/data1/dbashir/courses/deeplearning1/nbs'"
      ]
     },
     "execution_count": 3,
     "metadata": {},
     "output_type": "execute_result"
    }
   ],
   "source": [
    "%pwd"
   ]
  },
  {
   "cell_type": "code",
   "execution_count": 8,
   "metadata": {},
   "outputs": [
    {
     "name": "stdout",
     "output_type": "stream",
     "text": [
      "data/state-farm/train/\n"
     ]
    }
   ],
   "source": [
    "train_path = path + \"/train/\"\n",
    "print(train_path)\n",
    "def tagAndMoveFile(pathName):\n",
    "    \n",
    "    wantedPath = os.path.join(train_path,pathName)\n",
    "    \n",
    "    for filename in os.listdir(train_path):\n",
    "        fullPath = os.path.join(wantedPath,filename)\n",
    "        \n",
    "        newName = pathName + '_' + filename\n",
    "        newPath = os.path.join(wantedPath,newName)\n",
    "        \n",
    "        os.rename(fullPath,newPath)\n",
    "        \n",
    "        #now get them out of the files\n",
    "        \n",
    "        finalPath = os.path.join(train_path,newName)\n",
    "        os.rename(newPath,finalPath)\n",
    "        \n",
    "        \n",
    "\n",
    "    #directory = os.path.join(train_path,wantedPath)\n",
    "#     for filename in os.listdir(train_path):\n",
    "#         fullPath = os.path.join(train_path, filename)\n",
    "#         #path_new = os.path.join(fullPath, filename)\n",
    "        \n",
    "#         #rename file\n",
    "#         newFileName = filename[3:]\n",
    "        \n",
    "        \n",
    "#         newLoc = os.path.join(wantedPath,filename)\n",
    "#         os.rename(fullPath,newLoc)\n",
    "#         finalFile = os.path.join(wantedPath, newFileName)\n",
    "        \n",
    "#         os.rename(newLoc,finalFile)\n",
    "        \n",
    "#         #finalLocation = os.path.join(wantedPath, newFileName)\n",
    "#         #os.rename(finalFile,finalLocation)\n",
    "        \n",
    "#         #finalFile = os.path.join(finalLocation, filename)\n",
    "#         #os.rename(fullPath, finalFile)\n",
    "        \n",
    "#         #finalFile = os.path.join(directory,filename)\n",
    "#         #finalFileLocation = os.path.join(train_path,filename)\n",
    "#         #os.rename(finalFile,finalFileLocation)"
   ]
  },
  {
   "cell_type": "code",
   "execution_count": 9,
   "metadata": {},
   "outputs": [
    {
     "ename": "OSError",
     "evalue": "[Errno 2] No such file or directory",
     "output_type": "error",
     "traceback": [
      "\u001b[0;31m---------------------------------------------------------------------------\u001b[0m",
      "\u001b[0;31mOSError\u001b[0m                                   Traceback (most recent call last)",
      "\u001b[0;32m<ipython-input-9-bf143f1ddae5>\u001b[0m in \u001b[0;36m<module>\u001b[0;34m()\u001b[0m\n\u001b[0;32m----> 1\u001b[0;31m \u001b[0mtagAndMoveFile\u001b[0m\u001b[0;34m(\u001b[0m\u001b[0;34m'c0'\u001b[0m\u001b[0;34m)\u001b[0m\u001b[0;34m\u001b[0m\u001b[0m\n\u001b[0m\u001b[1;32m      2\u001b[0m \u001b[0mtagAndMoveFile\u001b[0m\u001b[0;34m(\u001b[0m\u001b[0;34m'c1'\u001b[0m\u001b[0;34m)\u001b[0m\u001b[0;34m\u001b[0m\u001b[0m\n\u001b[1;32m      3\u001b[0m \u001b[0mtagAndMoveFile\u001b[0m\u001b[0;34m(\u001b[0m\u001b[0;34m'c2'\u001b[0m\u001b[0;34m)\u001b[0m\u001b[0;34m\u001b[0m\u001b[0m\n\u001b[1;32m      4\u001b[0m \u001b[0mtagAndMoveFile\u001b[0m\u001b[0;34m(\u001b[0m\u001b[0;34m'c3'\u001b[0m\u001b[0;34m)\u001b[0m\u001b[0;34m\u001b[0m\u001b[0m\n\u001b[1;32m      5\u001b[0m \u001b[0mtagAndMoveFile\u001b[0m\u001b[0;34m(\u001b[0m\u001b[0;34m'c4'\u001b[0m\u001b[0;34m)\u001b[0m\u001b[0;34m\u001b[0m\u001b[0m\n",
      "\u001b[0;32m<ipython-input-8-61adc141addc>\u001b[0m in \u001b[0;36mtagAndMoveFile\u001b[0;34m(pathName)\u001b[0m\n\u001b[1;32m     11\u001b[0m         \u001b[0mnewPath\u001b[0m \u001b[0;34m=\u001b[0m \u001b[0mos\u001b[0m\u001b[0;34m.\u001b[0m\u001b[0mpath\u001b[0m\u001b[0;34m.\u001b[0m\u001b[0mjoin\u001b[0m\u001b[0;34m(\u001b[0m\u001b[0mwantedPath\u001b[0m\u001b[0;34m,\u001b[0m\u001b[0mnewName\u001b[0m\u001b[0;34m)\u001b[0m\u001b[0;34m\u001b[0m\u001b[0m\n\u001b[1;32m     12\u001b[0m \u001b[0;34m\u001b[0m\u001b[0m\n\u001b[0;32m---> 13\u001b[0;31m         \u001b[0mos\u001b[0m\u001b[0;34m.\u001b[0m\u001b[0mrename\u001b[0m\u001b[0;34m(\u001b[0m\u001b[0mfilename\u001b[0m\u001b[0;34m,\u001b[0m\u001b[0mnewPath\u001b[0m\u001b[0;34m)\u001b[0m\u001b[0;34m\u001b[0m\u001b[0m\n\u001b[0m\u001b[1;32m     14\u001b[0m \u001b[0;34m\u001b[0m\u001b[0m\n\u001b[1;32m     15\u001b[0m         \u001b[0;31m#now get them out of the files\u001b[0m\u001b[0;34m\u001b[0m\u001b[0;34m\u001b[0m\u001b[0m\n",
      "\u001b[0;31mOSError\u001b[0m: [Errno 2] No such file or directory"
     ]
    }
   ],
   "source": [
    "tagAndMoveFile('c0')\n",
    "tagAndMoveFile('c1')\n",
    "tagAndMoveFile('c2')\n",
    "tagAndMoveFile('c3')\n",
    "tagAndMoveFile('c4')\n",
    "tagAndMoveFile('c5')\n",
    "tagAndMoveFile('c6')\n",
    "tagAndMoveFile('c7')\n",
    "tagAndMoveFile('c8')\n",
    "tagAndMoveFile('c9')"
   ]
  },
  {
   "cell_type": "code",
   "execution_count": null,
   "metadata": {
    "collapsed": true
   },
   "outputs": [],
   "source": []
  }
 ],
 "metadata": {
  "kernelspec": {
   "display_name": "Python 2",
   "language": "python",
   "name": "python2"
  },
  "language_info": {
   "codemirror_mode": {
    "name": "ipython",
    "version": 2
   },
   "file_extension": ".py",
   "mimetype": "text/x-python",
   "name": "python",
   "nbconvert_exporter": "python",
   "pygments_lexer": "ipython2",
   "version": "2.7.14"
  }
 },
 "nbformat": 4,
 "nbformat_minor": 2
}
