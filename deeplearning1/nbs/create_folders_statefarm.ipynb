{
 "cells": [
  {
   "cell_type": "code",
   "execution_count": null,
   "metadata": {
    "collapsed": true
   },
   "outputs": [],
   "source": [
    "from glob import glob\n",
    "from random import shuffle\n",
    "import os, shutil\n",
    "import zipfile"
   ]
  },
  {
   "cell_type": "code",
   "execution_count": null,
   "metadata": {
    "collapsed": true
   },
   "outputs": [],
   "source": [
    "def train_valid_folders(path,percent=0.8,flag=0):\n",
    "    train_path = os.path.join(path,'train')\n",
    "    valid_path = os.path.join(path,'valid')\n",
    "\n",
    "    if not os.path.exists(train_path):\n",
    "        os.mkdir(train_path)\n",
    "    if not os.path.exists(valid_path):\n",
    "        os.mkdir(valid_path)\n",
    "    \n",
    "    if flag:\n",
    "        all_train = glob(os.path.join(path,'*.*'))\n",
    "    else:\n",
    "        all_train = glob(os.path.join(train_path,'*.*'))\n",
    "    train_set,valid_set = get_split_set(all_train,percent)\n",
    "    for f in valid_set:\n",
    "        shutil.move(f,valid_path)\n",
    "    if flag:\n",
    "        for f in train_set:\n",
    "            shutil.move(f,train_path)"
   ]
  },
  {
   "cell_type": "code",
   "execution_count": null,
   "metadata": {
    "collapsed": true
   },
   "outputs": [],
   "source": [
    "def sample_folder(path, percent=0.95):\n",
    "    train_path = os.path.join(path,'train')\n",
    "    all_train = glob(os.path.join(train_path,'*.*'))\n",
    "    sample_path = os.path.join(path,'sample')\n",
    "    if not ospath.exists(sample_path):\n",
    "        os.mkdir(sample_path)\n",
    "    _,sample_set = get_split_set(all_train,percent)\n",
    "    for f in sample_set:\n",
    "        shutil.copy(f,sample_path)"
   ]
  },
  {
   "cell_type": "code",
   "execution_count": null,
   "metadata": {
    "collapsed": true
   },
   "outputs": [],
   "source": [
    "def get_split_set(all_train,per):\n",
    "    shuffle(all_train)\n",
    "    n = len(all_train)\n",
    "    split_point = int(per*n)\n",
    "    return all_train[:split_point],all_train[split_point:]"
   ]
  },
  {
   "cell_type": "code",
   "execution_count": 1,
   "metadata": {
    "collapsed": true
   },
   "outputs": [],
   "source": [
    "def create_state_farm(path):\n",
    "    path_list = []\n",
    "    c0_path = os.path.join(path,'c0')\n",
    "    path_list.append(c0_path)\n",
    "    c1_path = os.path.join(path,'c1')\n",
    "    path_list.append(c1_path)\n",
    "    c2_path = os.path.join(path,'c2')\n",
    "    path_list.append(c2_path)\n",
    "    c3_path = os.path.join(path,'c3')\n",
    "    path_list.append(c3_path)\n",
    "    c4_path = os.path.join(path,'c4')\n",
    "    path_list.append(c4_path)\n",
    "    c5_path = os.path.join(path,'c5')\n",
    "    path_list.append(c5_path)\n",
    "    c6_path = os.path.join(path,'c6')\n",
    "    path_list.append(c6_path)\n",
    "    c7_path = os.path.join(path,'c7')\n",
    "    path_list.append(c7_path)\n",
    "    c8_path = os.path.join(path,'c8')\n",
    "    path_list.append(c8_path)\n",
    "    c9_path = os.path.join(path,'c9')\n",
    "    path_list.append(c9_path)\n",
    "    c10_path = os.path.join(path,'c10')\n",
    "    path_list.append(c10_path)\n",
    "    \n",
    "    \n",
    "    for path in path_list:\n",
    "        if not os.path.exists(path):\n",
    "            os.mkdir(path)\n",
    "    \n",
    "    c0_path = glob(os.path.join(path,'*.jpg'))"
   ]
  },
  {
   "cell_type": "code",
   "execution_count": null,
   "metadata": {
    "collapsed": true
   },
   "outputs": [],
   "source": [
    "def main():\n",
    "    parent_path = 'data/state-farm'\n",
    "    zip_path = os.path.join(parent_path,'imgs.zip')\n",
    "    train_valid_percent_split = 0.9\n",
    "    train_sample_percent_split = 0.95\n",
    "    \n",
    "    with zipfile.ZipFile(train_zip_path,\"r\") as z:\n",
    "        z.extractall(parent_path)\n",
    "        \n",
    "    path = parent_path\n",
    "    sample_folder(path,train_sample_percent_split)\n",
    "    train_valid_folders(path,train_valid_percent_split)\n",
    "    \n",
    "    \n",
    "    path = os.path.join(parent_path,'train')\n",
    "    create_state_farm(path)\n",
    "    path = os.path.join(parent_path,'valid')\n",
    "    create_state_farm(path)\n",
    "    \n",
    "    child_path = os.path.join(parent_path,'sample')\n",
    "    valid_path = os.path.join(child_path,'valid')\n",
    "    create_state_farm(valid_path)"
   ]
  }
 ],
 "metadata": {
  "kernelspec": {
   "display_name": "Python 2",
   "language": "python",
   "name": "python2"
  },
  "language_info": {
   "codemirror_mode": {
    "name": "ipython",
    "version": 2
   },
   "file_extension": ".py",
   "mimetype": "text/x-python",
   "name": "python",
   "nbconvert_exporter": "python",
   "pygments_lexer": "ipython2",
   "version": "2.7.14"
  }
 },
 "nbformat": 4,
 "nbformat_minor": 2
}
