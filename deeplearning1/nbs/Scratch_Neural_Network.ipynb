{
 "cells": [
  {
   "cell_type": "code",
   "execution_count": 1,
   "metadata": {
    "collapsed": true
   },
   "outputs": [],
   "source": [
    "###Libraries\n",
    "import json\n",
    "import random\n",
    "import sys\n",
    "import numpy as np"
   ]
  },
  {
   "cell_type": "code",
   "execution_count": 2,
   "metadata": {},
   "outputs": [
    {
     "name": "stderr",
     "output_type": "stream",
     "text": [
      "Using cuDNN version 5103 on context None\n",
      "ERROR (theano.gpuarray): Could not initialize pygpu, support disabled\n",
      "Traceback (most recent call last):\n",
      "  File \"/home/dbashir/anaconda2/lib/python2.7/site-packages/theano/gpuarray/__init__.py\", line 227, in <module>\n",
      "    use(config.device)\n",
      "  File \"/home/dbashir/anaconda2/lib/python2.7/site-packages/theano/gpuarray/__init__.py\", line 214, in use\n",
      "    init_dev(device, preallocate=preallocate)\n",
      "  File \"/home/dbashir/anaconda2/lib/python2.7/site-packages/theano/gpuarray/__init__.py\", line 140, in init_dev\n",
      "    context.free_gmem / MB))\n",
      "RuntimeError: Trying to preallocate 10867 MB of GPU memory while only 237 MB are available.\n",
      "Using Theano backend.\n"
     ]
    }
   ],
   "source": [
    "%matplotlib inline\n",
    "import utils; reload(utils)\n",
    "from utils import *\n",
    "from __future__ import division, print_function"
   ]
  },
  {
   "cell_type": "code",
   "execution_count": 3,
   "metadata": {
    "collapsed": true
   },
   "outputs": [],
   "source": [
    "import bcolz\n",
    "def save_array(fname, arr): c=bcolz.carray(arr, rootdir=fname, mode='w'); c.flush()\n",
    "def load_array(fname): return bcolz.open(fname)[:]"
   ]
  },
  {
   "cell_type": "code",
   "execution_count": 6,
   "metadata": {},
   "outputs": [
    {
     "name": "stdout",
     "output_type": "stream",
     "text": [
      "Found 20424 images belonging to 10 classes.\n",
      "Found 2000 images belonging to 10 classes.\n",
      "Found 79726 images belonging to 1 classes.\n"
     ]
    }
   ],
   "source": [
    "path = \"data/state-farm/\"\n",
    "train_data = get_data(path+'train')\n",
    "val_data = get_data(path+'valid')\n",
    "test_data = get_data(path+'test')"
   ]
  },
  {
   "cell_type": "code",
   "execution_count": 7,
   "metadata": {},
   "outputs": [],
   "source": [
    "class QuadraticCost(object):\n",
    "    @staticmethod\n",
    "    def fn(a,y):\n",
    "        return 0.5*np.linalg.norm(y-a)**2\n",
    "    \n",
    "    @staticmethod\n",
    "    def delta(z,a,y):\n",
    "        \"\"\"return error delta\"\"\"\n",
    "        return (a-y)*sigmoid_prime(z)\n",
    "    \n",
    "class CrossEntropyCost(object):\n",
    "    @staticmethod\n",
    "    def fn(a,y):\n",
    "        return -(1/n) * np.sum(-y*np.log(a) + (1-y)*np.log(1-a))\n",
    "\n",
    "class Network(object):\n",
    "    def __init__(self, sizes):\n",
    "        \"\"\"\n",
    "        sizes is the same as in Nielsen's implementation, where it is a vector\n",
    "        containing the number of neurons in respective layers of the network\n",
    "        e.g. [4,3,7] is a 3-layer network with 4 neurons in the first layer, 3 in the second, and so on. \n",
    "        \"\"\"\n",
    "        self.num_layers = len(sizes)\n",
    "        self.sizes = sizes\n",
    "        self.biases = [np.random.randn(y,1) for y in sizes[1:]]\n",
    "        self.weights = [np.random.randn(y,x) for\n",
    "                       x,y in zip(sizes[:-1], sizes[1:])]\n",
    "        \n",
    "    def feedforward(self,a):\n",
    "        \"\"\"determine output of network if input is a\"\"\"\n",
    "        for b,w in zip(self.biases,self.weights):\n",
    "            a = sigmoid(np.dot(w,a) + b)\n",
    "        return a\n",
    "    \n",
    "    def SGD(self, training_data, epochs, mini_batch_size, eta, test_data=None):\n",
    "        \"\"\"\n",
    "        Train network using mini-batch stochastic gradient descent\n",
    "        \"\"\"\n",
    "        if test_data: n_test = len(test_data)\n",
    "        n = len(training_data)\n",
    "        for j in xrange(epochs):\n",
    "            random.shuffle(training_data)\n",
    "            mini_batches = [\n",
    "                training_data[k:k+mini_batch_size]\n",
    "                for k in range [0,n,mini_batch_size]\n",
    "            ]\n",
    "            for mini_batch in mini_batches:\n",
    "                self = self.update_mini_batch(mini_batch,eta)\n",
    "    \n",
    "    def update_mini_batch(self, mini_batch, eta):\n",
    "        nabla_b = [np.zeros(b.shape) for b in self.biases]\n",
    "        nabla_w = [np.zeros(w.shape) for w in self.weights]\n",
    "        for x,y in mini_batch:\n",
    "            #compute change in nabla_b/w from backpropagation\n",
    "            delta_nabla_b, delta_nabla_w = self.backprop(x,y)\n",
    "            #update nabla_b and nabla_w\n",
    "            nabla_b = [nb+dnb for nb,dnb in zip(nabla_b,delta_nabla_b)]\n",
    "            nabla_w = [dw+dnw for nw,dnw in zip(nabla_w,delta_nabla_w)]\n",
    "            \n",
    "        self.weights = [w - (eta/len(mini_batch))*nw for w,nw in zip(self.weights,nabla_w)]\n",
    "        self.biases = [b - (eta/len(mini_batch))*nb for b,nb in zip(self.biases,nabla_b)]\n",
    "        \n",
    "    def backprop(self,x,y):\n",
    "        \"\"\"\n",
    "        returns a tuple (nabla_b,nabla_w) representing the gradient for the cost function C_x\n",
    "        \"\"\"\n",
    "        nabla_b = [np.zeros(b.shape) for b in self.biases]\n",
    "        nabla_w = [np.zeros(w.shape) for w in self.weights]\n",
    "        \n",
    "        #feedforwared\n",
    "        activation = x\n",
    "        activations = [x] #list to store activations layer by layer\n",
    "        \n",
    "        zs = [] #list to store zs (weighted input to neurons in layer l)\n",
    "        \n",
    "        for b,w in zip(self.biases,self.weights):\n",
    "            z = np.dot(w,activation) + b\n",
    "            zs.append(z)\n",
    "            \n",
    "            activation = sigmoid(z)\n",
    "            activations.append(activation)\n",
    "            \n",
    "        for l in range(2,self.num_layers):\n",
    "            z = zs[-1]\n",
    "            sp = sigmoid_prime(z)\n",
    "            delta = np.dot(self.weights[l-1].transpose(),delta) * sp\n",
    "            \n",
    "            #according to the third equation of backpropagation, dC/db = delta so we make the last entry in nabla_b delta\n",
    "            nabla_b[-1] = delta\n",
    "            #the fourth equation of backpropagation gives dC/dw where this w is the from the kth row to the jth\n",
    "            nabla_w[-1] = np.dot(activations[l-1], delta)\n",
    "        return (nabla_b,nabla_w)\n",
    "    \n",
    "    def evaluate(self, test_data):\n",
    "        \"\"\"\n",
    "        return number of inputs for which the neural network gives the correct output\n",
    "        \"\"\"\n",
    "        test_results = [np.argmax(feedforward(x),y) for x,y in test_data]\n",
    "        return sum(int(x==y) for (x,y) in test_results)\n",
    "    \n",
    "\n",
    "##helper functions##\n",
    "def sigmoid(z):\n",
    "    \"\"\"The sigmoid function\"\"\"\n",
    "    return 1.0/(1+np.exp(-z))\n",
    "def sigmoid_prime(z):\n",
    "    \"\"\"derivative of the sigmoid function\"\"\"\n",
    "    return sigmoid(x)*(1-sigmoid(z))"
   ]
  },
  {
   "cell_type": "code",
   "execution_count": 10,
   "metadata": {},
   "outputs": [
    {
     "ename": "ValueError",
     "evalue": "The truth value of an array with more than one element is ambiguous. Use a.any() or a.all()",
     "output_type": "error",
     "traceback": [
      "\u001b[0;31m---------------------------------------------------------------------------\u001b[0m",
      "\u001b[0;31mValueError\u001b[0m                                Traceback (most recent call last)",
      "\u001b[0;32m<ipython-input-10-b9293e00fe5e>\u001b[0m in \u001b[0;36m<module>\u001b[0;34m()\u001b[0m\n\u001b[1;32m      1\u001b[0m \u001b[0mnet\u001b[0m \u001b[0;34m=\u001b[0m \u001b[0mNetwork\u001b[0m\u001b[0;34m(\u001b[0m\u001b[0;34m[\u001b[0m\u001b[0;36m784\u001b[0m\u001b[0;34m,\u001b[0m\u001b[0;36m30\u001b[0m\u001b[0;34m,\u001b[0m\u001b[0;36m10\u001b[0m\u001b[0;34m]\u001b[0m\u001b[0;34m)\u001b[0m \u001b[0;31m#create a network w 30 hidden neurons\u001b[0m\u001b[0;34m\u001b[0m\u001b[0m\n\u001b[0;32m----> 2\u001b[0;31m \u001b[0mnet\u001b[0m\u001b[0;34m.\u001b[0m\u001b[0mSGD\u001b[0m\u001b[0;34m(\u001b[0m\u001b[0mtrain_data\u001b[0m\u001b[0;34m,\u001b[0m\u001b[0;36m5\u001b[0m\u001b[0;34m,\u001b[0m\u001b[0;36m16\u001b[0m\u001b[0;34m,\u001b[0m\u001b[0;36m3.0\u001b[0m\u001b[0;34m,\u001b[0m\u001b[0mtest_data\u001b[0m\u001b[0;34m=\u001b[0m\u001b[0mtest_data\u001b[0m\u001b[0;34m)\u001b[0m \u001b[0;31m#train w SGD, 5 epochs, batchsize = 16, learning rate = 3.0\u001b[0m\u001b[0;34m\u001b[0m\u001b[0m\n\u001b[0m",
      "\u001b[0;32m<ipython-input-7-cce9cbae9d89>\u001b[0m in \u001b[0;36mSGD\u001b[0;34m(self, training_data, epochs, mini_batch_size, eta, test_data)\u001b[0m\n\u001b[1;32m     37\u001b[0m         \u001b[0mTrain\u001b[0m \u001b[0mnetwork\u001b[0m \u001b[0musing\u001b[0m \u001b[0mmini\u001b[0m\u001b[0;34m-\u001b[0m\u001b[0mbatch\u001b[0m \u001b[0mstochastic\u001b[0m \u001b[0mgradient\u001b[0m \u001b[0mdescent\u001b[0m\u001b[0;34m\u001b[0m\u001b[0m\n\u001b[1;32m     38\u001b[0m         \"\"\"\n\u001b[0;32m---> 39\u001b[0;31m         \u001b[0;32mif\u001b[0m \u001b[0mtest_data\u001b[0m\u001b[0;34m:\u001b[0m \u001b[0mn_test\u001b[0m \u001b[0;34m=\u001b[0m \u001b[0mlen\u001b[0m\u001b[0;34m(\u001b[0m\u001b[0mtest_data\u001b[0m\u001b[0;34m)\u001b[0m\u001b[0;34m\u001b[0m\u001b[0m\n\u001b[0m\u001b[1;32m     40\u001b[0m         \u001b[0mn\u001b[0m \u001b[0;34m=\u001b[0m \u001b[0mlen\u001b[0m\u001b[0;34m(\u001b[0m\u001b[0mtraining_data\u001b[0m\u001b[0;34m)\u001b[0m\u001b[0;34m\u001b[0m\u001b[0m\n\u001b[1;32m     41\u001b[0m         \u001b[0;32mfor\u001b[0m \u001b[0mj\u001b[0m \u001b[0;32min\u001b[0m \u001b[0mxrange\u001b[0m\u001b[0;34m(\u001b[0m\u001b[0mepochs\u001b[0m\u001b[0;34m)\u001b[0m\u001b[0;34m:\u001b[0m\u001b[0;34m\u001b[0m\u001b[0m\n",
      "\u001b[0;31mValueError\u001b[0m: The truth value of an array with more than one element is ambiguous. Use a.any() or a.all()"
     ]
    }
   ],
   "source": [
    "net = Network([784,30,10]) #create a network w 30 hidden neurons\n",
    "net.SGD(train_data,5,16,3.0,test_data=test_data) #train w SGD, 5 epochs, batchsize = 16, learning rate = 3.0"
   ]
  },
  {
   "cell_type": "code",
   "execution_count": null,
   "metadata": {
    "collapsed": true
   },
   "outputs": [],
   "source": []
  }
 ],
 "metadata": {
  "kernelspec": {
   "display_name": "Python 2",
   "language": "python",
   "name": "python2"
  },
  "language_info": {
   "codemirror_mode": {
    "name": "ipython",
    "version": 2
   },
   "file_extension": ".py",
   "mimetype": "text/x-python",
   "name": "python",
   "nbconvert_exporter": "python",
   "pygments_lexer": "ipython2",
   "version": "2.7.14"
  }
 },
 "nbformat": 4,
 "nbformat_minor": 2
}
