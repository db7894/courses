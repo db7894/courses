{
 "cells": [
  {
   "cell_type": "code",
   "execution_count": 1,
   "metadata": {
    "collapsed": true
   },
   "outputs": [],
   "source": [
    "#Create references to important directories we will use over and over\n",
    "import os, sys\n",
    "current_dir = os.getcwd()\n",
    "LESSON_HOME_DIR = current_dir\n",
    "path = current_dir+'/data/state-farm/'"
   ]
  },
  {
   "cell_type": "code",
   "execution_count": 2,
   "metadata": {},
   "outputs": [
    {
     "name": "stderr",
     "output_type": "stream",
     "text": [
      "Using cuDNN version 5103 on context None\n",
      "Preallocating 10867/11439 Mb (0.950000) on cuda\n",
      "Mapped name None to device cuda: Tesla K40c (0000:81:00.0)\n",
      "Using Theano backend.\n"
     ]
    }
   ],
   "source": [
    "#Allow relative imports to directories above lesson1/\n",
    "sys.path.insert(1, os.path.join(sys.path[0], '..'))\n",
    "\n",
    "#import modules\n",
    "from utils import *\n",
    "from vgg16 import Vgg16\n",
    "\n",
    "#Instantiate plotting tool\n",
    "#In Jupyter notebooks, you will need to run this command before doing any plotting\n",
    "%matplotlib inline"
   ]
  },
  {
   "cell_type": "code",
   "execution_count": 5,
   "metadata": {
    "collapsed": true
   },
   "outputs": [],
   "source": [
    "current_path = path + \"train/\"\n",
    "\n",
    "def tagAndMoveFile(pathName):\n",
    "    wantedPath = pathName + '/'\n",
    "    directory = os.path.join(current_path,wantedPath)\n",
    "    for filename in os.listdir(directory):\n",
    "        fullPath = os.path.join(directory, filename)\n",
    "        newFileName = filename[3:]\n",
    "        finalFile = os.path.join(directory, newFileName)\n",
    "        os.rename(fullPath, finalFile)\n",
    "        \n",
    "#         finalFile = os.path.join(directory,filename)\n",
    "#         finalFileLocation = os.path.join(train_path,filename)\n",
    "#         os.rename(finalFile,finalFileLocation)"
   ]
  },
  {
   "cell_type": "code",
   "execution_count": 6,
   "metadata": {
    "collapsed": true
   },
   "outputs": [],
   "source": [
    "tagAndMoveFile('c0')\n",
    "tagAndMoveFile('c1')\n",
    "tagAndMoveFile('c2')\n",
    "tagAndMoveFile('c3')\n",
    "tagAndMoveFile('c4')\n",
    "tagAndMoveFile('c5')\n",
    "tagAndMoveFile('c6')\n",
    "tagAndMoveFile('c7')\n",
    "tagAndMoveFile('c8')\n",
    "tagAndMoveFile('c9')"
   ]
  },
  {
   "cell_type": "code",
   "execution_count": null,
   "metadata": {
    "collapsed": true
   },
   "outputs": [],
   "source": []
  },
  {
   "cell_type": "code",
   "execution_count": null,
   "metadata": {
    "collapsed": true
   },
   "outputs": [],
   "source": []
  },
  {
   "cell_type": "code",
   "execution_count": null,
   "metadata": {
    "collapsed": true
   },
   "outputs": [],
   "source": []
  }
 ],
 "metadata": {
  "kernelspec": {
   "display_name": "Python 2",
   "language": "python",
   "name": "python2"
  },
  "language_info": {
   "codemirror_mode": {
    "name": "ipython",
    "version": 2
   },
   "file_extension": ".py",
   "mimetype": "text/x-python",
   "name": "python",
   "nbconvert_exporter": "python",
   "pygments_lexer": "ipython2",
   "version": "2.7.14"
  }
 },
 "nbformat": 4,
 "nbformat_minor": 2
}
